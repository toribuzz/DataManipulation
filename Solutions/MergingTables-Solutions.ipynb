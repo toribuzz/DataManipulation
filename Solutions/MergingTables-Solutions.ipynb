{
 "cells": [
  {
   "cell_type": "code",
   "execution_count": 2,
   "id": "2ea67098",
   "metadata": {},
   "outputs": [],
   "source": [
    "import pandas as pd"
   ]
  },
  {
   "cell_type": "markdown",
   "id": "61e60715",
   "metadata": {},
   "source": [
    "# *Data Manipulation Notebook 2:*  Appending, Concatinating, Merging, and Joining Tables"
   ]
  },
  {
   "cell_type": "code",
   "execution_count": 3,
   "id": "91da9073",
   "metadata": {},
   "outputs": [],
   "source": [
    "flowers = pd.DataFrame({\n",
    "    \"Name\" : [\"Iris\", \"Peony\", \"Daisy\", \"Petunia\", \"Impatiens\", \"Creeping Myrtle\"], \n",
    "    \"Plant_Type\" : [\"Perennial\", \"Perennial\",\"Annual\", \"Annual\", \"Annual\", \"Perennial\"],\n",
    "    \"Sun_Shade\": [\"Full Sun\", \"Full Sun\", \"Partial Sun\", \"Partial Sun\", \"Partial Shade\", \"Full Shade\" ]\n",
    "    \n",
    "})\n",
    "\n",
    "garden_supply = pd.DataFrame({\n",
    "    \"Flower\" : [\"Daylily\",\"Iris\", \"Peony\",\"Petunia\", \"Petunia\", \"Impatiens\", \"Coneflower\"],\n",
    "    \"Sold_As\" : [\"Container\", \"Bulb Pack\", \"Root Pack\",\"Container Pack\", \"Mixed Container\", \"Container Pack\", \"Container\"],\n",
    "    \"Amt_Package\" : [1, 25, 5, 4, 1, 4, 1]\n",
    "})\n",
    "\n",
    "shrubs = pd.DataFrame({\n",
    "    \"Name\" : [\"Boxwood\", \"Hydrangea\", \"Dipladenia\", \"Gardenia\"], \n",
    "    \"Plant_Type\" : [\"Evergreen\", \"Flowering\", \"Flowering\", \"Flowering\"],\n",
    "    \"Sun_Shade\": [\"Partial Sund\", \"Partial Sun\", \"Partial Shade\", \"Full Sun\" ]\n",
    "})"
   ]
  },
  {
   "cell_type": "markdown",
   "id": "03c6e4ad",
   "metadata": {},
   "source": [
    "<span style=\"background-color:dodgerblue; color:dodgerblue;\">- - - - - - - - - - - - - - - - - - - - - - - - - - - - - - - - - - - - - - - - - - - - - - - - - - - - - - - - - - - - - - - - - - - - - - - - - - - - - - - - - - - - - - - - -</span> "
   ]
  },
  {
   "cell_type": "markdown",
   "id": "e20a8607",
   "metadata": {},
   "source": [
    "# Part 1: Append "
   ]
  },
  {
   "cell_type": "code",
   "execution_count": 4,
   "id": "d4745cde",
   "metadata": {},
   "outputs": [],
   "source": [
    "#SOLUTION\n",
    "append_plants = flowers.append(shrubs)"
   ]
  },
  {
   "cell_type": "code",
   "execution_count": 84,
   "id": "c0287bc3",
   "metadata": {},
   "outputs": [],
   "source": [
    "# SOLUTION\n",
    "append_plants = flowers.append(shrubs, ignore_index=True)"
   ]
  },
  {
   "cell_type": "markdown",
   "id": "fd457c92",
   "metadata": {},
   "source": [
    "<span style=\"background-color:dodgerblue; color:dodgerblue;\">- - - - - - - - - - - - - - - - - - - - - - - - - - - - - - - - - - - - - - - - - - - - - - - - - - - - - - - - - - - - - - - - - - - - - - - - - - - - - - - - - - - - - - - - -</span> "
   ]
  },
  {
   "cell_type": "markdown",
   "id": "869b81e3",
   "metadata": {},
   "source": [
    "# Part 2: Concatenation"
   ]
  },
  {
   "cell_type": "code",
   "execution_count": 85,
   "id": "71c5fe1d",
   "metadata": {},
   "outputs": [],
   "source": [
    "# Concatenate flowers and shrubs horizontally here:\n",
    "\n",
    "#SOLUTION\n",
    "flowers_shrubs = pd.concat([flowers, shrubs], axis=1)"
   ]
  },
  {
   "cell_type": "markdown",
   "id": "5646ff5f",
   "metadata": {},
   "source": [
    "<span style=\"background-color:dodgerblue; color:dodgerblue;\">- - - - - - - - - - - - - - - - - - - - - - - - - - - - - - - - - - - - - - - - - - - - - - - - - - - - - - - - - - - - - - - - - - - - - - - - - - - - - - - - - - - - - - - - -</span> "
   ]
  },
  {
   "cell_type": "markdown",
   "id": "a67ac6ea",
   "metadata": {},
   "source": [
    "# Part 3:  Merge "
   ]
  },
  {
   "cell_type": "code",
   "execution_count": 86,
   "id": "0b0f427f",
   "metadata": {},
   "outputs": [],
   "source": [
    "# Run this code: (uncomment)\n",
    "# flowers.merge(garden_supply)\n",
    "\n",
    "#Why isn't this working?\n",
    "\n",
    "# SOLUTION: no common key"
   ]
  },
  {
   "cell_type": "markdown",
   "id": "396593ce",
   "metadata": {},
   "source": [
    "### Option 1:  Rename a column in the flowers table.\n",
    "\n",
    "Create a variable to hold your updated table.  \n",
    "apply the following syntax to update your column names: **table_name.rename(columns={\"original_name\": \"new_name\"})**"
   ]
  },
  {
   "cell_type": "code",
   "execution_count": 87,
   "id": "f275d8c6",
   "metadata": {},
   "outputs": [],
   "source": [
    "# Code Option 1 here.  Be sure to run your table before moving on to option 2.\n",
    "\n",
    "#SOLUTION\n",
    "rename_flowers_col = flowers.rename(columns={\"Name\": \"Flower\"})"
   ]
  },
  {
   "cell_type": "markdown",
   "id": "240fd2d4",
   "metadata": {},
   "source": [
    "#### Option 1 Testing:\n",
    "Merge garden_supply with you updated table in a new variable.\n",
    "Run your newly merged table and examine it."
   ]
  },
  {
   "cell_type": "code",
   "execution_count": 88,
   "id": "9d5ddf17",
   "metadata": {},
   "outputs": [],
   "source": [
    "# Test Option 1 here:\n",
    "#SOLUTION\n",
    "\n",
    "merge_rename = rename_flowers_col.merge(garden_supply)"
   ]
  },
  {
   "cell_type": "markdown",
   "id": "7c9200d0",
   "metadata": {},
   "source": [
    "### Option 2: Using the merge method's parameters \"left_on\" & \"right_on\"\n",
    "\n",
    "Option 2 can be used when if you would rather not rename any columns.\n",
    "Using the syntax below as a guide, create a table where you merge the *flowers* table on the \"Name\" column and the *garden_supply* on the \"Flower\".  Set your tables up where *flowers* is on the left and *garden_supply* on the right\n",
    "    \n",
    "Syntax:  **left_table.merge(right_table, left_on=\"column_name\", right_on=\"column_name\")**"
   ]
  },
  {
   "cell_type": "code",
   "execution_count": 89,
   "id": "c13290b3",
   "metadata": {},
   "outputs": [],
   "source": [
    "# Code Option 2 here:\n",
    "# SOLUTION\n",
    "merge_only = flowers.merge(garden_supply, left_on=\"Name\", right_on=\"Flower\")"
   ]
  },
  {
   "cell_type": "markdown",
   "id": "7badc6e0",
   "metadata": {},
   "source": [
    "### Sytnax Exploring:\n",
    "Using the syntax in Option 2, perform the same merge, but this time *garden_supply* on the left and *flowers* on the right.  What do you notice?"
   ]
  },
  {
   "cell_type": "code",
   "execution_count": 90,
   "id": "0e3dc0da",
   "metadata": {},
   "outputs": [],
   "source": [
    "#  Code your Syntax Exploration here:\n",
    "#SOLUTION\n",
    "merge_only1 = garden_supply.merge(flowers, left_on=\"Flower\", right_on=\"Name\")"
   ]
  },
  {
   "cell_type": "markdown",
   "id": "d653bc84",
   "metadata": {},
   "source": [
    "<span style=\"background-color:dodgerblue; color:dodgerblue;\">- - - - - - - - - - - - - - - - - - - - - - - - - - - - - - - - - - - - - - - - - - - - - - - - - - - - - - - - - - - - - - - - - - - - - - - - - - - - - - - - - - - - - - - - -</span> "
   ]
  },
  {
   "cell_type": "markdown",
   "id": "518b0605",
   "metadata": {},
   "source": [
    "# Part 4:  Types of Merges "
   ]
  },
  {
   "cell_type": "markdown",
   "id": "d3caac1e",
   "metadata": {},
   "source": [
    "## 4a: Inner Merge"
   ]
  },
  {
   "cell_type": "code",
   "execution_count": 91,
   "id": "3f868d9a",
   "metadata": {},
   "outputs": [],
   "source": [
    "inner = pd.merge(flowers, garden_supply, how=\"inner\", left_on=\"Name\", right_on=\"Flower\", indicator=True)"
   ]
  },
  {
   "cell_type": "code",
   "execution_count": 92,
   "id": "1033af35",
   "metadata": {},
   "outputs": [],
   "source": [
    "# Explain this table.  How is it organized?  Why are there only 5 rows?\n",
    "#SOLUTION - contains shared between left and right table, where name = flower"
   ]
  },
  {
   "cell_type": "markdown",
   "id": "80a2e0cb",
   "metadata": {},
   "source": [
    "## 4b: Left Merge"
   ]
  },
  {
   "cell_type": "code",
   "execution_count": 93,
   "id": "e6eabfbc",
   "metadata": {},
   "outputs": [],
   "source": [
    "# Create a left merge table:\n",
    "\n",
    "#SOLUTION\n",
    "left = pd.merge(flowers, garden_supply, how=\"left\", left_on=\"Name\", right_on=\"Flower\", indicator=True)"
   ]
  },
  {
   "cell_type": "markdown",
   "id": "fd4dc955",
   "metadata": {},
   "source": [
    "## 4c: Right Merge"
   ]
  },
  {
   "cell_type": "code",
   "execution_count": 94,
   "id": "48eac82a",
   "metadata": {},
   "outputs": [],
   "source": [
    "right = pd.merge(flowers, garden_supply, how=\"right\", left_on=\"Name\", right_on=\"Flower\", indicator=True)"
   ]
  },
  {
   "cell_type": "code",
   "execution_count": 95,
   "id": "18f4c32b",
   "metadata": {},
   "outputs": [],
   "source": [
    "# The syntax for right merge has been provided.\n",
    "# In your own words, explain how it is different from the left merge in 4b:\n",
    "    # All values from right table and any shared values in the left table are contained in the table.\n",
    "    # Any values that are only in the left table are represented by \"NaN\" and are not in this table."
   ]
  },
  {
   "cell_type": "markdown",
   "id": "62702b32",
   "metadata": {},
   "source": [
    "## Outer Merge"
   ]
  },
  {
   "cell_type": "code",
   "execution_count": 96,
   "id": "c3ccb28f",
   "metadata": {},
   "outputs": [],
   "source": [
    "# Create an outer merge table:\n",
    "\n",
    "#SOLUTION - if they used Option 2\n",
    "outer = pd.merge(flowers, garden_supply, how=\"outer\", left_on=\"Name\", right_on=\"Flower\", indicator=True)"
   ]
  },
  {
   "cell_type": "markdown",
   "id": "d304c06a",
   "metadata": {},
   "source": [
    "## Anti_Merge\n",
    "\n",
    "An **Anti Merge** is a merge based on what is leftout.  This is not an actual table, but you can create one with a little code and logic.  Read through the code below to see one way to create an anti-table."
   ]
  },
  {
   "cell_type": "code",
   "execution_count": 97,
   "id": "20502209",
   "metadata": {},
   "outputs": [],
   "source": [
    "left_join = flowers.merge(garden_supply, how=\"left\", left_on=\"Name\", right_on=\"Flower\", indicator=True) \n",
    "left_only = left_join.loc[left_join[\"_merge\"] ==\"left_only\", \"Name\"]\n",
    "left_only_flowers=flowers[flowers[\"Name\"].isin(left_only)]\n",
    "\n",
    "# In your own words, how did we create the \"left_only_flowers\" table?  Answers may vary\n",
    "    # Started by merging our table together (left_join)\n",
    "    # Create a variable to hold our \"left_only\" flowers\n",
    "    # Created table contianing items in the left_only variable"
   ]
  },
  {
   "cell_type": "markdown",
   "id": "e4e74e53",
   "metadata": {},
   "source": [
    "<span style=\"background-color:dodgerblue; color:dodgerblue;\">- - - - - - - - - - - - - - - - - - - - - - - - - - - - - - - - - - - - - - - - - - - - - - - - - - - - - - - - - - - - - - - - - - - - - - - - - - - - - - - - - - - - - - - - -</span> "
   ]
  },
  {
   "cell_type": "markdown",
   "id": "c08565e0",
   "metadata": {},
   "source": [
    "# Part 5: Join"
   ]
  },
  {
   "cell_type": "code",
   "execution_count": 98,
   "id": "d21a3d0b",
   "metadata": {},
   "outputs": [],
   "source": [
    "join = flowers.join(garden_supply)"
   ]
  },
  {
   "cell_type": "code",
   "execution_count": 99,
   "id": "a7cfda58",
   "metadata": {},
   "outputs": [],
   "source": [
    "# create a \"join_inner\" table that inner joins garden_supply and flowers:\n",
    "#SOLUTION\n",
    "join_inner = garden_supply.join(flowers, how=\"inner\")"
   ]
  },
  {
   "cell_type": "code",
   "execution_count": 100,
   "id": "713b4362",
   "metadata": {},
   "outputs": [],
   "source": [
    "# Below is the code for an outer join\n",
    "join_outer = garden_supply.join(flowers, how=\"outer\")"
   ]
  },
  {
   "cell_type": "code",
   "execution_count": 101,
   "id": "46081c3c",
   "metadata": {},
   "outputs": [],
   "source": [
    "# Based on what an outer join does, look closely at the table \"join_outer\".  \n",
    "# Explain how these table elements are indexed.\n",
    "    # Answers may vary\n",
    "    # Starts with shared elements, then 6 is only found in the garden supply table\n"
   ]
  }
 ],
 "metadata": {
  "kernelspec": {
   "display_name": "Python 3 (ipykernel)",
   "language": "python",
   "name": "python3"
  },
  "language_info": {
   "codemirror_mode": {
    "name": "ipython",
    "version": 3
   },
   "file_extension": ".py",
   "mimetype": "text/x-python",
   "name": "python",
   "nbconvert_exporter": "python",
   "pygments_lexer": "ipython3",
   "version": "3.9.7"
  }
 },
 "nbformat": 4,
 "nbformat_minor": 5
}
